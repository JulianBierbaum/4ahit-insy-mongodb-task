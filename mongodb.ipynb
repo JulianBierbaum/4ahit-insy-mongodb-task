{
 "cells": [
  {
   "cell_type": "markdown",
   "id": "737baf0e",
   "metadata": {},
   "source": [
    "# MongoDB Tasks"
   ]
  },
  {
   "cell_type": "markdown",
   "id": "21de53cc",
   "metadata": {},
   "source": [
    "**DB Connection**"
   ]
  },
  {
   "cell_type": "code",
   "execution_count": 391,
   "id": "1d431677",
   "metadata": {},
   "outputs": [],
   "source": [
    "import pymongo\n",
    "from datetime import datetime, timedelta\n",
    "\n",
    "client = pymongo.MongoClient(\"mongodb://localhost:27017/\")\n",
    "db = client[\"sample_mflix\"]"
   ]
  },
  {
   "cell_type": "markdown",
   "id": "b18717b7",
   "metadata": {},
   "source": [
    "**Movies from year 2000**"
   ]
  },
  {
   "cell_type": "code",
   "execution_count": 392,
   "id": "8edbd224",
   "metadata": {},
   "outputs": [
    {
     "name": "stdout",
     "output_type": "stream",
     "text": [
      "\n",
      "Found 20 item(s):\n",
      "- In the Mood for Love (2000)\n",
      "- State and Main (2000)\n",
      "- Songs from the Second Floor (2000)\n",
      "- April Captains (2000)\n",
      "- Chicken Run (2000)\n",
      "- Mission: Impossible II (2000)\n",
      "- The Million Dollar Hotel (2000)\n",
      "- X-Men (2000)\n",
      "- The Emperor's New Groove (2000)\n",
      "- Titan A.E. (2000)\n",
      "- Return to Me (2000)\n",
      "- The Million Dollar Hotel (2000)\n",
      "- Waking the Dead (2000)\n",
      "- Dinosaur (2000)\n",
      "- The Adventures of Rocky & Bullwinkle (2000)\n",
      "- Scream 3 (2000)\n",
      "- Duets (2000)\n",
      "- Pitch Black (2000)\n",
      "- Cement (2000)\n",
      "- The Road to El Dorado (2000)\n"
     ]
    }
   ],
   "source": [
    "movies = list(db[\"movies\"].find({\"year\": 2000}).limit(20))\n",
    "print(f\"\\nFound {len(movies)} item(s):\")\n",
    "for movie in movies:\n",
    "    title = movie.get('title', 'N/A')\n",
    "    year = movie.get('year', 'N/A')\n",
    "    print(f\"- {title} ({year})\")"
   ]
  },
  {
   "cell_type": "markdown",
   "id": "fe231239",
   "metadata": {},
   "source": [
    "**Movies with genre comedy**"
   ]
  },
  {
   "cell_type": "code",
   "execution_count": 393,
   "id": "922afe61",
   "metadata": {},
   "outputs": [
    {
     "name": "stdout",
     "output_type": "stream",
     "text": [
      "\n",
      "Found 20 item(s):\n",
      "- Gertie the Dinosaur (['Animation', 'Short', 'Comedy'])\n",
      "- Winsor McCay, the Famous Cartoonist of the N.Y. Herald and His Moving Comics (['Animation', 'Short', 'Comedy'])\n",
      "- The Immigrant (['Short', 'Comedy', 'Drama'])\n",
      "- The Poor Little Rich Girl (['Comedy', 'Drama', 'Family'])\n",
      "- Wild and Woolly (['Comedy', 'Western', 'Romance'])\n",
      "- From Hand to Mouth (['Comedy', 'Short', 'Action'])\n",
      "- One Week (['Short', 'Comedy'])\n",
      "- High and Dizzy (['Comedy', 'Short'])\n",
      "- The Saphead (['Comedy'])\n",
      "- The Kid (['Comedy', 'Drama', 'Family'])\n",
      "- Miss Lulu Bett (['Comedy', 'Drama'])\n",
      "- Now or Never (['Comedy', 'Short'])\n",
      "- Safety Last! (['Comedy', 'Romance', 'Thriller'])\n",
      "- Three Ages (['Comedy'])\n",
      "- Cops (['Short', 'Comedy', 'Family'])\n",
      "- Our Hospitality (['Comedy', 'Family'])\n",
      "- The Navigator (['Action', 'Comedy'])\n",
      "- Go West (['Comedy', 'Western'])\n",
      "- The Freshman (['Comedy', 'Family', 'Sport'])\n",
      "- Sherlock Jr. (['Comedy', 'Family', 'Fantasy'])\n"
     ]
    }
   ],
   "source": [
    "movies = list(db[\"movies\"].find({\"genres\": \"Comedy\"}).limit(20))\n",
    "print(f\"\\nFound {len(movies)} item(s):\")\n",
    "for movie in movies:\n",
    "    title = movie.get('title', 'N/A')\n",
    "    genres = movie.get('genres', 'N/A')\n",
    "    print(f\"- {title} ({genres})\")"
   ]
  },
  {
   "cell_type": "markdown",
   "id": "b9e776be",
   "metadata": {},
   "source": [
    "**Movies with IMDb rating of over 8.0**"
   ]
  },
  {
   "cell_type": "code",
   "execution_count": 394,
   "id": "814ff77e",
   "metadata": {},
   "outputs": [
    {
     "name": "stdout",
     "output_type": "stream",
     "text": [
      "\n",
      "Found 20 item(s):\n",
      "- One Week (IMDb: 8.3)\n",
      "- The Kid (IMDb: 8.4)\n",
      "- Safety Last! (IMDb: 8.3)\n",
      "- Tol'able David (IMDb: 8.1)\n",
      "- The Navigator (IMDb: 8.1)\n",
      "- The Big Parade (IMDb: 8.3)\n",
      "- Sherlock Jr. (IMDb: 8.3)\n",
      "- The Gold Rush (IMDb: 8.3)\n",
      "- Ben-Hur: A Tale of the Christ (IMDb: 8.1)\n",
      "- Ella Cinders (IMDb: 8.1)\n",
      "- Flesh and the Devil (IMDb: 8.1)\n",
      "- Metropolis (IMDb: 8.3)\n",
      "- The General (IMDb: 8.3)\n",
      "- Sunrise (IMDb: 8.4)\n",
      "- The Cameraman (IMDb: 8.3)\n",
      "- Show People (IMDb: 8.3)\n",
      "- The Passion of Joan of Arc (IMDb: 8.4)\n",
      "- The Wind (IMDb: 8.4)\n",
      "- Man with a Movie Camera (IMDb: 8.4)\n",
      "- All Quiet on the Western Front (IMDb: 8.1)\n"
     ]
    }
   ],
   "source": [
    "movies = list(db[\"movies\"].find({\"imdb.rating\": {\"$gt\": 8.0}}).limit(20))\n",
    "print(f\"\\nFound {len(movies)} item(s):\")\n",
    "for movie in movies:\n",
    "    title = movie.get('title', 'N/A')\n",
    "    rating = movie.get('imdb', {}).get('rating', 'N/A')\n",
    "    print(f\"- {title} (IMDb: {rating})\")"
   ]
  },
  {
   "cell_type": "markdown",
   "id": "fb6ed20e",
   "metadata": {},
   "source": [
    "**Movies with title and year**"
   ]
  },
  {
   "cell_type": "code",
   "execution_count": 395,
   "id": "f2210afa",
   "metadata": {},
   "outputs": [
    {
     "name": "stdout",
     "output_type": "stream",
     "text": [
      "\n",
      "Found 20 item(s):\n",
      "- Traffic in Souls (1913)\n",
      "- The Land Beyond the Sunset (1912)\n",
      "- Blacksmith Scene (1893)\n",
      "- A Corner in Wheat (1909)\n",
      "- Gertie the Dinosaur (1914)\n",
      "- In the Land of the Head Hunters (1914)\n",
      "- The Birth of a Nation (1915)\n",
      "- The Cheat (1915)\n",
      "- The Italian (1915)\n",
      "- Regeneration (1915)\n",
      "- Winsor McCay, the Famous Cartoonist of the N.Y. Herald and His Moving Comics (1911)\n",
      "- Hell's Hinges (1916)\n",
      "- Intolerance: Love's Struggle Throughout the Ages (1916)\n",
      "- Where Are My Children? (1916)\n",
      "- The Immigrant (1917)\n",
      "- The Poor Little Rich Girl (1917)\n",
      "- Wild and Woolly (1917)\n",
      "- The Blue Bird (1918)\n",
      "- Les vampires (1915)\n",
      "- Civilization (1916)\n"
     ]
    }
   ],
   "source": [
    "movies = list(db[\"movies\"].find({}, {\"title\": 1, \"year\": 1, \"_id\": 0}).limit(20))\n",
    "print(f\"\\nFound {len(movies)} item(s):\")\n",
    "for movie in movies:\n",
    "    title = movie.get('title', 'N/A')\n",
    "    year = movie.get('year', 'N/A')\n",
    "    print(f\"- {title} ({year})\")"
   ]
  },
  {
   "cell_type": "markdown",
   "id": "b2a1b22c",
   "metadata": {},
   "source": [
    "**Locations in Berlin**"
   ]
  },
  {
   "cell_type": "code",
   "execution_count": 396,
   "id": "3a5143f0",
   "metadata": {},
   "outputs": [
    {
     "name": "stdout",
     "output_type": "stream",
     "text": [
      "\n",
      "Found 0 item(s):\n"
     ]
    }
   ],
   "source": [
    "listings = list(db[\"airbnb\"].find({\"address.market\": \"Berlin\"}).limit(20))\n",
    "print(f\"\\nFound {len(listings)} item(s):\")\n",
    "for listing in listings:\n",
    "    name = listing.get('name', 'N/A')\n",
    "    market = listing.get('address', {}).get('market', 'N/A')\n",
    "    print(f\"- {name} ({market})\")"
   ]
  },
  {
   "cell_type": "markdown",
   "id": "a2b4aa8d",
   "metadata": {},
   "source": [
    "**Locations with min. 2 bedrooms**"
   ]
  },
  {
   "cell_type": "code",
   "execution_count": 397,
   "id": "8f263d15",
   "metadata": {},
   "outputs": [
    {
     "name": "stdout",
     "output_type": "stream",
     "text": [
      "\n",
      "Found 20 item(s):\n",
      "- Ribeira Charming Duplex (3 bedrooms)\n",
      "- 3 chambres au coeur du Plateau (3 bedrooms)\n",
      "- Apartamento zona sul do RJ (3 bedrooms)\n",
      "- Large railroad style 3 bedroom apt in Manhattan! (3 bedrooms)\n",
      "- Cozy aptartment in Recreio (near Olympic Venues) (3 bedrooms)\n",
      "- Amazing and Big Apt, Ipanema Beach. (3 bedrooms)\n",
      "- Private OceanFront - Bathtub Beach. Spacious House (4 bedrooms)\n",
      "- BBC OPORTO 4X2 (4 bedrooms)\n",
      "- Aluguel Temporada Casa São Conrado (4 bedrooms)\n",
      "- Greenwich Fun and Luxury (4 bedrooms)\n",
      "- Cheerful new renovated central apt (3 bedrooms)\n",
      "- Bondi Beach Dreaming 3-Bed House (3 bedrooms)\n",
      "- Jubilee By The Sea (Ocean Views) (4 bedrooms)\n",
      "- Grand apartment Sagrada Familia (4 bedrooms)\n",
      "- Ribeira Smart Flat (3 bedrooms)\n",
      "- GREAT Apartment at Barra da Tijuca (3 bedrooms)\n",
      "- Lovely ap at Leblon beach (3 bedrooms)\n",
      "- Colonial Mansion in Santa Teresa (6 bedrooms)\n",
      "- CASA PARA AS OLIMPIADAS 2016 (4 bedrooms)\n",
      "- Great location in Barcelona (4 bedrooms)\n"
     ]
    }
   ],
   "source": [
    "listings = list(db[\"airbnb\"].find({\"bedrooms\": {\"$gt\": 2}}).limit(20))\n",
    "print(f\"\\nFound {len(listings)} item(s):\")\n",
    "for listing in listings:\n",
    "    name = listing.get('name', 'N/A')\n",
    "    bedrooms = listing.get('bedrooms', 'N/A')\n",
    "    print(f\"- {name} ({bedrooms} bedrooms)\")"
   ]
  },
  {
   "cell_type": "markdown",
   "id": "440aacc4",
   "metadata": {},
   "source": [
    "**Locations with WIFI**"
   ]
  },
  {
   "cell_type": "code",
   "execution_count": 398,
   "id": "e4a20cfc",
   "metadata": {},
   "outputs": [
    {
     "name": "stdout",
     "output_type": "stream",
     "text": [
      "\n",
      "Found 20 item(s):\n",
      "- Ribeira Charming Duplex (WiFi available)\n",
      "- New York City - Upper West Side Apt (WiFi available)\n",
      "- Charming Flat in Downtown Moda (WiFi available)\n",
      "- Catete's Colonial Big Hause Room B (WiFi available)\n",
      "- Horto flat with small garden (WiFi available)\n",
      "- Apt Linda Vista Lagoa - Rio (WiFi available)\n",
      "- Private Room in Bushwick (WiFi available)\n",
      "- Ligne verte - à 15 min de métro du centre ville. (WiFi available)\n",
      "- Modern Spacious 1 Bedroom Loft (WiFi available)\n",
      "- 3 chambres au coeur du Plateau (WiFi available)\n",
      "- Ótimo Apto proximo Parque Olimpico (WiFi available)\n",
      "- Deluxe Loft Suite (WiFi available)\n",
      "- Double Room en-suite (307) (WiFi available)\n",
      "- Copacabana Apartment Posto 6 (WiFi available)\n",
      "- Nice room in Barcelona Center (WiFi available)\n",
      "- Easy 1 Bedroom in Chelsea (WiFi available)\n",
      "- Cozy house at Beyoğlu (WiFi available)\n",
      "- Ocean View Waikiki Marina w/prkg (WiFi available)\n",
      "- City center private room with bed (WiFi available)\n",
      "- Downtown Oporto Inn (room cleaning) (WiFi available)\n"
     ]
    }
   ],
   "source": [
    "listings = list(db[\"airbnb\"].find({\"amenities\": \"Wifi\"}).limit(20))\n",
    "print(f\"\\nFound {len(listings)} item(s):\")\n",
    "for listing in listings:\n",
    "    name = listing.get('name', 'N/A')\n",
    "    print(f\"- {name} (WiFi available)\")"
   ]
  },
  {
   "cell_type": "markdown",
   "id": "b8dadb80",
   "metadata": {},
   "source": [
    "**Price under 100 USD**"
   ]
  },
  {
   "cell_type": "code",
   "execution_count": 399,
   "id": "300c029b",
   "metadata": {},
   "outputs": [
    {
     "name": "stdout",
     "output_type": "stream",
     "text": [
      "\n",
      "Found 20 item(s):\n",
      "- Ribeira Charming Duplex ($80.00)\n",
      "- Private Room in Bushwick ($40.00)\n",
      "- Ligne verte - à 15 min de métro du centre ville. ($43.00)\n",
      "- Modern Spacious 1 Bedroom Loft ($50.00)\n",
      "- Nice room in Barcelona Center ($50.00)\n",
      "- Cozy house at Beyoğlu ($58.00)\n",
      "- Downtown Oporto Inn (room cleaning) ($40.00)\n",
      "- A Casa Alegre é um apartamento T1. ($40.00)\n",
      "- Be Happy in Porto ($30.00)\n",
      "- Room Close to LGA and 35 mins to Times Square ($46.00)\n",
      "- Private Room (2)  in Guest House at Coogee Beach ($64.00)\n",
      "- Friendly Apartment, 10m from Manly ($36.00)\n",
      "- Cozy Nest, heart of the Plateau ($34.00)\n",
      "- Makaha Valley Paradise with OceanView ($95.00)\n",
      "- Small Room w Bathroom Flamengo Rio de Janeiro ($71.00)\n",
      "- A bedroom far away from home ($45.00)\n",
      "- FloresRooms 3T ($31.00)\n",
      "- Room For Erasmus ($37.00)\n",
      "- A large sunny bedroom ($35.00)\n",
      "- Studio convenient to CBD, beaches, street parking. ($45.00)\n"
     ]
    }
   ],
   "source": [
    "listings = list(db[\"airbnb\"].find({\"price\": {\"$lt\": 100}}).limit(20))\n",
    "print(f\"\\nFound {len(listings)} item(s):\")\n",
    "for listing in listings:\n",
    "    name = listing.get('name', 'N/A')\n",
    "    price = listing.get('price', 'N/A')\n",
    "    print(f\"- {name} (${price})\")"
   ]
  },
  {
   "cell_type": "markdown",
   "id": "cf670746",
   "metadata": {},
   "source": [
    "**Locations in Vienna with more than 2 bedrooms and WIFI**"
   ]
  },
  {
   "cell_type": "code",
   "execution_count": 400,
   "id": "c657fe68",
   "metadata": {},
   "outputs": [
    {
     "name": "stdout",
     "output_type": "stream",
     "text": [
      "\n",
      "Found 0 item(s):\n"
     ]
    }
   ],
   "source": [
    "listings = list(db[\"airbnb\"].find({\"$and\": [{\"address.market\": \"Vienna\"},{\"bedrooms\": {\"$gt\": 2}},{\"amenities\": \"Wifi\"}]}).limit(20))\n",
    "print(f\"\\nFound {len(listings)} item(s):\")\n",
    "for listing in listings:\n",
    "    name = listing.get('name', 'N/A')\n",
    "    bedrooms = listing.get('bedrooms', 'N/A')\n",
    "    market = listing.get('address', {}).get('market', 'N/A')\n",
    "    print(f\"- {name} ({bedrooms} bedrooms, {market})\")"
   ]
  },
  {
   "cell_type": "markdown",
   "id": "2a13350b",
   "metadata": {},
   "source": [
    "**Average price of Locations in Paris**"
   ]
  },
  {
   "cell_type": "code",
   "execution_count": 401,
   "id": "459d813a",
   "metadata": {},
   "outputs": [
    {
     "name": "stdout",
     "output_type": "stream",
     "text": [
      "\n",
      "Found 0 result(s):\n"
     ]
    }
   ],
   "source": [
    "result = list(db[\"airbnb\"].aggregate([{\"$match\": {\"address.market\": \"Paris\"}}, {\"$group\": {\"_id\": None, \"avg_price\": {\"$avg\": \"$price\"}, \"count\": {\"$sum\": 1}}},\n",
    "    {\"$limit\": 20}]))\n",
    "print(f\"\\nFound {len(result)} result(s):\")\n",
    "if result:\n",
    "    avg_price = result[0]['avg_price']\n",
    "    count = result[0]['count']\n",
    "    print(f\"- Average price in Paris: ${avg_price:.2f} ({count} listings)\")"
   ]
  },
  {
   "cell_type": "markdown",
   "id": "ee5731cf",
   "metadata": {},
   "source": [
    "**Top 5 locations in Amsterdam**"
   ]
  },
  {
   "cell_type": "code",
   "execution_count": 402,
   "id": "f093bb4c",
   "metadata": {},
   "outputs": [
    {
     "name": "stdout",
     "output_type": "stream",
     "text": [
      "\n",
      "Found 0 item(s):\n"
     ]
    }
   ],
   "source": [
    "listings = list(db[\"airbnb\"].find({\"address.market\": \"Amsterdam\"}).sort(\"review_scores.review_scores_rating\", -1).limit(5))\n",
    "print(f\"\\nFound {len(listings)} item(s):\")\n",
    "for listing in listings:\n",
    "    name = listing.get('name', 'N/A')\n",
    "    rating = listing.get('review_scores', {}).get('review_scores_rating', 'N/A')\n",
    "    print(f\"- {name} ({rating})\")"
   ]
  },
  {
   "cell_type": "markdown",
   "id": "abf3c72f",
   "metadata": {},
   "source": [
    "**Locations with kitchen and a washer**"
   ]
  },
  {
   "cell_type": "code",
   "execution_count": 403,
   "id": "ae5a543b",
   "metadata": {},
   "outputs": [
    {
     "name": "stdout",
     "output_type": "stream",
     "text": [
      "\n",
      "Found 20 item(s):\n",
      "- Ribeira Charming Duplex (Kitchen & Washing Machine)\n",
      "- New York City - Upper West Side Apt (Kitchen & Washing Machine)\n",
      "- Charming Flat in Downtown Moda (Kitchen & Washing Machine)\n",
      "- Horto flat with small garden (Kitchen & Washing Machine)\n",
      "- Apt Linda Vista Lagoa - Rio (Kitchen & Washing Machine)\n",
      "- Ligne verte - à 15 min de métro du centre ville. (Kitchen & Washing Machine)\n",
      "- Modern Spacious 1 Bedroom Loft (Kitchen & Washing Machine)\n",
      "- 3 chambres au coeur du Plateau (Kitchen & Washing Machine)\n",
      "- Ótimo Apto proximo Parque Olimpico (Kitchen & Washing Machine)\n",
      "- Deluxe Loft Suite (Kitchen & Washing Machine)\n",
      "- Copacabana Apartment Posto 6 (Kitchen & Washing Machine)\n",
      "- Nice room in Barcelona Center (Kitchen & Washing Machine)\n",
      "- Cozy house at Beyoğlu (Kitchen & Washing Machine)\n",
      "- Ocean View Waikiki Marina w/prkg (Kitchen & Washing Machine)\n",
      "- THE Place to See Sydney's FIREWORKS (Kitchen & Washing Machine)\n",
      "- GOLF ROYAL RESIDENCE SUİTES(2+1)-2 (Kitchen & Washing Machine)\n",
      "- Apartamento zona sul do RJ (Kitchen & Washing Machine)\n",
      "- A Casa Alegre é um apartamento T1. (Kitchen & Washing Machine)\n",
      "- The LES Apartment (Kitchen & Washing Machine)\n",
      "- Sydney Hyde Park City Apartment (checkin from 6am) (Kitchen & Washing Machine)\n"
     ]
    }
   ],
   "source": [
    "listings = list(db[\"airbnb\"].find({\"$and\": [{\"amenities\": \"Kitchen\"}, {\"amenities\": \"Washer\"}]}).limit(20))\n",
    "print(f\"\\nFound {len(listings)} item(s):\")\n",
    "for listing in listings:\n",
    "    name = listing.get('name', 'N/A')\n",
    "    print(f\"- {name} (Kitchen & Washing Machine)\")"
   ]
  },
  {
   "cell_type": "markdown",
   "id": "d02cb0bc",
   "metadata": {},
   "source": [
    "**Weatherdata from January 1st 2016**"
   ]
  },
  {
   "cell_type": "code",
   "execution_count": 404,
   "id": "18c27f35",
   "metadata": {},
   "outputs": [
    {
     "name": "stdout",
     "output_type": "stream",
     "text": [
      "\n",
      "Found 20 item(s):\n",
      "- x+45200-066500\n",
      "- x+47600-047900\n",
      "- x+51900+003600\n",
      "- x+60900-005300\n",
      "- x+66300-025200\n",
      "- x+59800-029700\n",
      "- x+49700-055900\n",
      "- x+79800-172000\n",
      "- x+59500+001500\n",
      "- x+55600+004800\n",
      "- x+47600-000700\n",
      "- x+68400+011800\n",
      "- x+67400+010500\n",
      "- x-39600+173400\n",
      "- x+56500+002100\n",
      "- x+47400-070400\n",
      "- x+55300+005000\n",
      "- x+21100+116200\n",
      "- x+43700-059700\n",
      "- x+63200-016100\n"
     ]
    }
   ],
   "source": [
    "target_day = datetime(1984, 3, 5)\n",
    "start = target_day\n",
    "end = start + timedelta(days=1)\n",
    "\n",
    "entries = list(db[\"weather\"].find({\"ts\": {\"$gte\": start, \"$lt\": end}}).limit(20))\n",
    "print(f\"\\nFound {len(entries)} item(s):\")\n",
    "for entry in entries:\n",
    "    name = entry.get('st', 'N/A')\n",
    "    print(f\"- {name}\")"
   ]
  },
  {
   "cell_type": "markdown",
   "id": "dec4767e",
   "metadata": {},
   "source": [
    "**Temperature above 30°C**"
   ]
  },
  {
   "cell_type": "code",
   "execution_count": 405,
   "id": "73351101",
   "metadata": {},
   "outputs": [
    {
     "name": "stdout",
     "output_type": "stream",
     "text": [
      "\n",
      "Found 20 item(s):\n",
      "- x+47600-000700\n",
      "- x+47400-070400\n",
      "- x+43400-065600\n",
      "- x+21900-072800\n",
      "- x+41700-068400\n",
      "- x+03600-109000\n",
      "- x+46700-059900\n",
      "- x+56400+002000\n",
      "- x+06800+116200\n",
      "- x+28500-066400\n",
      "- x+45500+153000\n",
      "- x+44400+164800\n",
      "- x+37100+003700\n",
      "- x+02800-006400\n",
      "- x+61200+021500\n",
      "- x+48900-067600\n",
      "- x+22600-085900\n",
      "- x+43700-059900\n",
      "- x+48000-029000\n",
      "- x-01200-005200\n"
     ]
    }
   ],
   "source": [
    "entries = list(db[\"weather\"].find({\"airTemperature.value\": {\"$gte\": 30}}).limit(20))\n",
    "print(f\"\\nFound {len(entries)} item(s):\")\n",
    "for entry in entries:\n",
    "    name = entry.get('st', 'N/A')\n",
    "    print(f\"- {name}\")"
   ]
  },
  {
   "cell_type": "markdown",
   "id": "448fa373",
   "metadata": {},
   "source": [
    "**Data from station \"USW00094728\"**"
   ]
  },
  {
   "cell_type": "code",
   "execution_count": 406,
   "id": "1e9a54a7",
   "metadata": {},
   "outputs": [
    {
     "name": "stdout",
     "output_type": "stream",
     "text": [
      "\n",
      "Found 0 item(s):\n"
     ]
    }
   ],
   "source": [
    "entries = list(db[\"weather\"].find({\"st\": \"USW00094728\"}).limit(20))\n",
    "print(f\"\\nFound {len(entries)} item(s):\")\n",
    "for entry in entries:\n",
    "    name = entry.get('st', 'N/A')\n",
    "    print(f\"- {name}\")"
   ]
  },
  {
   "cell_type": "markdown",
   "id": "7962bc63",
   "metadata": {},
   "source": [
    "**Average temperature per month for 2016**"
   ]
  },
  {
   "cell_type": "code",
   "execution_count": 407,
   "id": "89a7f8e6",
   "metadata": {},
   "outputs": [
    {
     "name": "stdout",
     "output_type": "stream",
     "text": [
      "Average Air Temperature per month for 2016\n",
      "\n",
      "Found 0 item(s):\n"
     ]
    }
   ],
   "source": [
    "pipeline = [\n",
    "    {\n",
    "        \"$match\": {\n",
    "            \"ts\": {\n",
    "                \"$gte\": datetime(2016, 1, 1),\n",
    "                \"$lt\": datetime(2017, 1, 1)\n",
    "            },\n",
    "            \"airTemperature.value\": {\"$ne\": 999.9}\n",
    "        }\n",
    "    },\n",
    "    {\n",
    "        \"$project\": {\n",
    "            \"month\": {\"$month\": \"$ts\"},\n",
    "            \"airTemp\": \"$airTemperature.value\"\n",
    "        }\n",
    "    },\n",
    "    {\n",
    "        \"$group\": {\n",
    "            \"_id\": \"$month\",\n",
    "            \"avgTemp\": {\"$avg\": \"$airTemp\"}\n",
    "        }\n",
    "    },\n",
    "    {\n",
    "        \"$sort\": {\"_id\": 1}\n",
    "    },\n",
    "    {\"$limit\": 20}\n",
    "]\n",
    "\n",
    "results = list(db[\"weather\"].aggregate(pipeline))\n",
    "print(\"Average Air Temperature per month for 2016\")\n",
    "print(f\"\\nFound {len(results)} item(s):\")\n",
    "for result in results:\n",
    "    month = result[\"_id\"]\n",
    "    avg_temp = round(result[\"avgTemp\"], 2)\n",
    "    print(f\"Month {month:02d}: {avg_temp}°C\")"
   ]
  },
  {
   "cell_type": "markdown",
   "id": "de78f459",
   "metadata": {},
   "source": [
    "**Days with precipitation above 50mm**"
   ]
  },
  {
   "cell_type": "code",
   "execution_count": 408,
   "id": "f00d3fd3",
   "metadata": {},
   "outputs": [
    {
     "name": "stdout",
     "output_type": "stream",
     "text": [
      "Days with precipitation above 50mm\n",
      "\n",
      "Found 0 item(s):\n"
     ]
    }
   ],
   "source": [
    "pipeline = [\n",
    "    {\n",
    "        \"$match\": {\n",
    "            \"precipitationEstimatedObservation.estimatedWaterDepth\": {\n",
    "                \"$gt\": 50,\n",
    "                \"$lt\": 999\n",
    "            }\n",
    "        }\n",
    "    },\n",
    "    {\n",
    "        \"$project\": {\n",
    "            \"date\": {\"$dateToString\": {\"format\": \"%Y-%m-%d\", \"date\": \"$ts\"}},\n",
    "            \"precip\": \"$precipitationEstimatedObservation.estimatedWaterDepth\"\n",
    "        }\n",
    "    },\n",
    "    {\n",
    "        \"$group\": {\n",
    "            \"_id\": \"$date\",\n",
    "            \"maxPrecip\": {\"$max\": \"$precip\"}\n",
    "        }\n",
    "    },\n",
    "    {\n",
    "        \"$sort\": {\"_id\": 1}\n",
    "    },\n",
    "    {\"$limit\": 20}\n",
    "]\n",
    "\n",
    "results = list(db[\"weather\"].aggregate(pipeline))\n",
    "print(\"Days with precipitation above 50mm\")\n",
    "print(f\"\\nFound {len(results)} item(s):\")\n",
    "for result in results:\n",
    "    print(f\"{result['_id']}: {result['maxPrecip']} mm\")\n"
   ]
  },
  {
   "cell_type": "markdown",
   "id": "fde62aa2",
   "metadata": {},
   "source": [
    "**Measures per station**"
   ]
  },
  {
   "cell_type": "code",
   "execution_count": 409,
   "id": "d4884c50",
   "metadata": {},
   "outputs": [
    {
     "name": "stdout",
     "output_type": "stream",
     "text": [
      "Measures per station\n",
      "\n",
      "Found 20 item(s):\n",
      "x+51900+003200: 61 measures\n",
      "x+52200+004200: 61 measures\n",
      "x+51900+003600: 59 measures\n",
      "x+41800-124400: 57 measures\n",
      "x+53200+003200: 53 measures\n",
      "x+56400+002000: 33 measures\n",
      "x+46400-048200: 23 measures\n",
      "x+66500+010200: 23 measures\n",
      "x+53100+002200: 23 measures\n",
      "x+43700-059700: 21 measures\n",
      "x+50600-002700: 21 measures\n",
      "x+58300+001300: 21 measures\n",
      "x+46700-048700: 20 measures\n",
      "x+61000+002300: 19 measures\n",
      "x+58400+000300: 19 measures\n",
      "x+54700+007100: 19 measures\n",
      "x+61100+001700: 18 measures\n",
      "x+61200+001100: 18 measures\n",
      "x+61200+001800: 18 measures\n",
      "x+59500+001500: 18 measures\n"
     ]
    }
   ],
   "source": [
    "pipeline = [\n",
    "    {\n",
    "        \"$group\": {\n",
    "            \"_id\": \"$st\",\n",
    "            \"count\": {\"$sum\": 1}\n",
    "        }\n",
    "    },\n",
    "    {\n",
    "        \"$sort\": {\"count\": -1}\n",
    "    },\n",
    "    {\"$limit\": 20}\n",
    "]\n",
    "\n",
    "results = list(db[\"weather\"].aggregate(pipeline))\n",
    "print(\"Measures per station\")\n",
    "print(f\"\\nFound {len(results)} item(s):\")\n",
    "for result in results:\n",
    "    station = result[\"_id\"]\n",
    "    count = result[\"count\"]\n",
    "    print(f\"{station}: {count} measures\")"
   ]
  },
  {
   "cell_type": "markdown",
   "id": "357f3f17",
   "metadata": {},
   "source": [
    "**Highest measured temperature per year**"
   ]
  },
  {
   "cell_type": "code",
   "execution_count": 410,
   "id": "09d57d62",
   "metadata": {},
   "outputs": [
    {
     "name": "stdout",
     "output_type": "stream",
     "text": [
      "Highest measured temperature per year\n",
      "\n",
      "Found 1 item(s):\n",
      "1984: 44.4°C (from 9426 measurements)\n"
     ]
    }
   ],
   "source": [
    "pipeline = [\n",
    "    {\n",
    "        \"$match\": {\n",
    "            \"airTemperature.value\": {\"$exists\": True, \"$ne\": 999.9}\n",
    "        }\n",
    "    },\n",
    "    {\n",
    "        \"$addFields\": {\n",
    "            \"year\": {\"$year\": \"$ts\"}\n",
    "        }\n",
    "    },\n",
    "    {\n",
    "        \"$group\": {\n",
    "            \"_id\": \"$year\",\n",
    "            \"maxTemperature\": {\"$max\": \"$airTemperature.value\"},\n",
    "            \"measurementCount\": {\"$sum\": 1}\n",
    "        }\n",
    "    },\n",
    "    {\n",
    "        \"$sort\": {\"_id\": 1}\n",
    "    },\n",
    "    {\"$limit\": 20}\n",
    "]\n",
    "\n",
    "results = list(db[\"weather\"].aggregate(pipeline))\n",
    "print(\"Highest measured temperature per year\")\n",
    "print(f\"\\nFound {len(results)} item(s):\")\n",
    "for result in results:\n",
    "    year = result[\"_id\"]\n",
    "    max_temp = result[\"maxTemperature\"]\n",
    "    count = result[\"measurementCount\"]\n",
    "    print(f\"{year}: {max_temp}°C (from {count} measurements)\")"
   ]
  },
  {
   "cell_type": "markdown",
   "id": "f19a40e3",
   "metadata": {},
   "source": [
    "**Top 5 movies with the most comments**"
   ]
  },
  {
   "cell_type": "code",
   "execution_count": 411,
   "id": "ffb4c935",
   "metadata": {},
   "outputs": [
    {
     "name": "stdout",
     "output_type": "stream",
     "text": [
      "Found 5 movies:\n",
      "1. The Taking of Pelham 1 2 3 (2009) - 161 comments\n",
      "2. Ocean's Eleven (2001) - 158 comments\n",
      "3. Terminator Salvation (2009) - 158 comments\n",
      "4. About a Boy (2002) - 158 comments\n",
      "5. 50 First Dates (2004) - 158 comments\n"
     ]
    }
   ],
   "source": [
    "pipeline = [\n",
    "    {\n",
    "        \"$group\": {\n",
    "            \"_id\": \"$movie_id\",\n",
    "            \"commentCount\": {\"$sum\": 1}\n",
    "        }\n",
    "    },\n",
    "    {\n",
    "        \"$lookup\": {\n",
    "            \"from\": \"movies\",\n",
    "            \"localField\": \"_id\",\n",
    "            \"foreignField\": \"_id\",\n",
    "            \"as\": \"movie_info\"\n",
    "        }\n",
    "    },\n",
    "    {\n",
    "        \"$unwind\": \"$movie_info\"\n",
    "    },\n",
    "    {\n",
    "        \"$project\": {\n",
    "            \"title\": \"$movie_info.title\",\n",
    "            \"year\": \"$movie_info.year\",\n",
    "            \"commentCount\": 1,\n",
    "            \"imdb_rating\": \"$movie_info.imdb.rating\"\n",
    "        }\n",
    "    },\n",
    "    {\n",
    "        \"$sort\": {\"commentCount\": -1}\n",
    "    },\n",
    "    {\n",
    "        \"$limit\": 5\n",
    "    },\n",
    "    {\"$limit\": 20}\n",
    "]\n",
    "\n",
    "results = list(db[\"comments\"].aggregate(pipeline))\n",
    "print(f\"Found {len(results)} movies:\")\n",
    "for i, result in enumerate(results, 1):\n",
    "    print(f\"{i}. {result['title']} ({result['year']}) - {result['commentCount']} comments\")\n"
   ]
  },
  {
   "cell_type": "markdown",
   "id": "f00e021e",
   "metadata": {},
   "source": [
    "**Comments from users with tiles**"
   ]
  },
  {
   "cell_type": "code",
   "execution_count": 412,
   "id": "5b926574",
   "metadata": {},
   "outputs": [
    {
     "name": "stdout",
     "output_type": "stream",
     "text": [
      "Kommentare von taylor_hill@fakegmail.com:\n",
      "Found 10 comments:\n",
      "The Matrix Revolutions (2003): Pariatur esse veritatis unde odio perferendis. Cor...\n",
      "Shrek 2 (2004): Esse dolore odio ex officiis autem at. Perferendis...\n",
      "Raiders of the Lost Ark (1981): Cupiditate reiciendis odit est illo non beatae. Om...\n",
      "Anchorman: The Legend of Ron Burgundy (2004): Tempore velit rerum tempora corrupti nostrum id vo...\n",
      "Zoolander (2001): Ea nam quibusdam quisquam. Minus numquam magni har...\n",
      "Fantozzi alla riscossa (1990): Deleniti labore officiis hic recusandae vel quae q...\n",
      "G.I. Joe: The Rise of Cobra (2009): Laborum esse delectus culpa earum molestias cumque...\n",
      "Fight Club (1999): Amet architecto necessitatibus quod assumenda ipsa...\n",
      "Honey, I Shrunk the Kids (1989): Amet inventore beatae tempora delectus odio. Excep...\n",
      "The Stepfather (2009): Provident possimus commodi mollitia a. Molestiae h...\n"
     ]
    }
   ],
   "source": [
    "sample_user = db[\"comments\"].find_one({}, {\"email\": 1})\n",
    "user_email = sample_user[\"email\"] if sample_user else \"taylor_hill@fakegmail.com\"\n",
    "\n",
    "pipeline = [\n",
    "    {\n",
    "        \"$match\": {\n",
    "            \"email\": user_email\n",
    "        }\n",
    "    },\n",
    "    {\n",
    "        \"$lookup\": {\n",
    "            \"from\": \"movies\",\n",
    "            \"localField\": \"movie_id\",\n",
    "            \"foreignField\": \"_id\",\n",
    "            \"as\": \"movie_info\"\n",
    "        }\n",
    "    },\n",
    "    {\n",
    "        \"$unwind\": \"$movie_info\"\n",
    "    },\n",
    "    {\n",
    "        \"$project\": {\n",
    "            \"name\": 1,\n",
    "            \"email\": 1,\n",
    "            \"text\": 1,\n",
    "            \"date\": 1,\n",
    "            \"movie_title\": \"$movie_info.title\",\n",
    "            \"movie_year\": \"$movie_info.year\"\n",
    "        }\n",
    "    },\n",
    "    {\n",
    "        \"$sort\": {\"date\": -1}\n",
    "    },\n",
    "    {\n",
    "        \"$limit\": 10\n",
    "    }\n",
    "]\n",
    "\n",
    "results = list(db[\"comments\"].aggregate(pipeline))\n",
    "print(f\"Kommentare von {user_email}:\")\n",
    "print(f\"Found {len(results)} comments:\")\n",
    "for result in results:\n",
    "    comment_preview = result['text'][:50] + \"...\" if len(result['text']) > 50 else result['text']\n",
    "    print(f\"{result['movie_title']} ({result['movie_year']}): {comment_preview}\")\n"
   ]
  },
  {
   "cell_type": "markdown",
   "id": "b82c5678",
   "metadata": {},
   "source": [
    "**Active users in the last 30 days**"
   ]
  },
  {
   "cell_type": "code",
   "execution_count": 413,
   "id": "500999ec",
   "metadata": {},
   "outputs": [
    {
     "name": "stdout",
     "output_type": "stream",
     "text": [
      "Found 1 active sessions:\n",
      "t3qulfeem@kwiv5.6ur (Unknown User)\n"
     ]
    }
   ],
   "source": [
    "thirty_days_ago = datetime.now() - timedelta(days=30)\n",
    "\n",
    "pipeline = [\n",
    "    {\n",
    "        \"$addFields\": {\n",
    "            \"decoded_jwt\": {\n",
    "                \"$let\": {\n",
    "                    \"vars\": {\n",
    "                        \"jwt_parts\": {\"$split\": [\"$jwt\", \".\"]}\n",
    "                    },\n",
    "                    \"in\": \"$$jwt_parts\"\n",
    "                }\n",
    "            }\n",
    "        }\n",
    "    },\n",
    "    {\n",
    "        \"$lookup\": {\n",
    "            \"from\": \"users\",\n",
    "            \"localField\": \"user_id\",\n",
    "            \"foreignField\": \"email\",\n",
    "            \"as\": \"user_info\"\n",
    "        }\n",
    "    },\n",
    "    {\n",
    "        \"$unwind\": {\n",
    "            \"path\": \"$user_info\",\n",
    "            \"preserveNullAndEmptyArrays\": True\n",
    "        }\n",
    "    },\n",
    "    {\n",
    "        \"$project\": {\n",
    "            \"user_id\": 1,\n",
    "            \"user_name\": \"$user_info.name\",\n",
    "            \"jwt_created\": 1\n",
    "        }\n",
    "    },\n",
    "    {\n",
    "        \"$limit\": 10\n",
    "    }\n",
    "]\n",
    "\n",
    "results = list(db[\"sessions\"].aggregate(pipeline))\n",
    "print(f\"Found {len(results)} active sessions:\")\n",
    "for result in results:\n",
    "    user_name = result.get('user_name', 'Unknown User')\n",
    "    print(f\"{result['user_id']} ({user_name})\")"
   ]
  },
  {
   "cell_type": "markdown",
   "id": "8ca4ad12",
   "metadata": {},
   "source": [
    "**Cinemas in New York**"
   ]
  },
  {
   "cell_type": "code",
   "execution_count": 414,
   "id": "cd4a04c1",
   "metadata": {},
   "outputs": [
    {
     "name": "stdout",
     "output_type": "stream",
     "text": [
      "Found 8 theaters in New York:\n",
      "Theater 1028: 529 5th Ave, New York, NY 10017\n",
      "Theater 1448: 1880 Broadway, New York, NY 10023\n",
      "Theater 1531: 52 E 14th St, New York, NY 10003\n",
      "Theater 1908: 750 Seventh Ave, New York, NY 10019\n",
      "Theater 1906: 2 Union Square, New York, NY 10003\n",
      "Theater 482: 60 West 23rd Street, New York, NY 10010\n",
      "Theater 609: 622 Broadway, New York, NY 10012\n",
      "Theater 835: 1280 Lexington Ave, New York, NY 10028\n"
     ]
    }
   ],
   "source": [
    "pipeline = [\n",
    "    {\n",
    "        \"$match\": {\n",
    "            \"location.address.city\": \"New York\"\n",
    "        }\n",
    "    },\n",
    "    {\n",
    "        \"$project\": {\n",
    "            \"theaterId\": 1,\n",
    "            \"address\": \"$location.address\",\n",
    "            \"coordinates\": \"$location.geo.coordinates\"\n",
    "        }\n",
    "    },\n",
    "    {\n",
    "        \"$limit\": 10\n",
    "    }\n",
    "]\n",
    "\n",
    "results = list(db[\"theaters\"].aggregate(pipeline))\n",
    "print(f\"Found {len(results)} theaters in New York:\")\n",
    "for result in results:\n",
    "    addr = result['address']\n",
    "    print(f\"Theater {result['theaterId']}: {addr['street1']}, {addr['city']}, {addr['state']} {addr['zipcode']}\")\n"
   ]
  },
  {
   "cell_type": "markdown",
   "id": "cecfff2e",
   "metadata": {},
   "source": [
    "**Average rating per genre**"
   ]
  },
  {
   "cell_type": "code",
   "execution_count": 415,
   "id": "608698b8",
   "metadata": {},
   "outputs": [
    {
     "name": "stdout",
     "output_type": "stream",
     "text": [
      "Found 15 genres:\n",
      "Film-Noir: avg. 7.50 (105 movies, 6.5-8.5)\n",
      "Documentary: avg. 7.37 (2119 movies, 1.6-9.5)\n",
      "Short: avg. 7.36 (473 movies, 3.7-8.7)\n",
      "News: avg. 7.25 (51 movies, 4.3-8.9)\n",
      "History: avg. 7.20 (997 movies, 2.4-9.6)\n",
      "War: avg. 7.18 (791 movies, 2.5-9.4)\n",
      "Biography: avg. 7.10 (1400 movies, 2.3-9.4)\n",
      "Talk-Show: avg. 7.00 (1 movies, 7-7)\n",
      "Music: avg. 6.92 (840 movies, 1.6-9)\n",
      "Animation: avg. 6.92 (967 movies, 2.7-9.2)\n",
      "Western: avg. 6.88 (274 movies, 3.1-8.9)\n",
      "Drama: avg. 6.83 (13751 movies, 1.9-9.6)\n",
      "Sport: avg. 6.78 (389 movies, 2-9.1)\n",
      "Crime: avg. 6.73 (2674 movies, 1.9-9.3)\n",
      "Musical: avg. 6.70 (486 movies, 2.1-8.7)\n"
     ]
    }
   ],
   "source": [
    "pipeline = [\n",
    "    {\n",
    "        \"$match\": {\n",
    "            \"imdb.rating\": {\"$exists\": True, \"$ne\": None, \"$type\": \"number\"}\n",
    "        }\n",
    "    },\n",
    "    {\n",
    "        \"$unwind\": \"$genres\"\n",
    "    },\n",
    "    {\n",
    "        \"$group\": {\n",
    "            \"_id\": \"$genres\",\n",
    "            \"avgRating\": {\"$avg\": \"$imdb.rating\"},\n",
    "            \"movieCount\": {\"$sum\": 1},\n",
    "            \"maxRating\": {\"$max\": \"$imdb.rating\"},\n",
    "            \"minRating\": {\"$min\": \"$imdb.rating\"}\n",
    "        }\n",
    "    },\n",
    "    {\n",
    "        \"$sort\": {\"avgRating\": -1}\n",
    "    },\n",
    "    {\n",
    "        \"$limit\": 15\n",
    "    }\n",
    "]\n",
    "\n",
    "results = list(db[\"movies\"].aggregate(pipeline))\n",
    "print(f\"Found {len(results)} genres:\")\n",
    "for result in results:\n",
    "    print(f\"{result['_id']}: avg. {result['avgRating']:.2f} ({result['movieCount']} movies, {result['minRating']}-{result['maxRating']})\")\n"
   ]
  },
  {
   "cell_type": "markdown",
   "id": "a74af4e5",
   "metadata": {},
   "source": [
    "**User with the most comments**"
   ]
  },
  {
   "cell_type": "code",
   "execution_count": 416,
   "id": "2fe69c6b",
   "metadata": {},
   "outputs": [
    {
     "name": "stdout",
     "output_type": "stream",
     "text": [
      "Found 10 top commenters:\n",
      "1. Mace Tyrell (roger_ashton-griffiths@gameofthron.es): 331 comments\n",
      "2. Missandei (nathalie_emmanuel@gameofthron.es): 327 comments\n",
      "3. The High Sparrow (jonathan_pryce@gameofthron.es): 315 comments\n",
      "4. Sansa Stark (sophie_turner@gameofthron.es): 308 comments\n",
      "5. Rodrik Cassel (ron_donachie@gameofthron.es): 305 comments\n",
      "6. Thoros of Myr (paul_kaye@gameofthron.es): 304 comments\n",
      "7. Robert Jordan (robert_jordan@fakegmail.com): 304 comments\n",
      "8. Brienne of Tarth (gwendoline_christie@gameofthron.es): 302 comments\n",
      "9. Andrea Le (andrea_le@fakegmail.com): 296 comments\n",
      "10. Megan Richards (megan_richards@fakegmail.com): 296 comments\n"
     ]
    }
   ],
   "source": [
    "pipeline = [\n",
    "    {\n",
    "        \"$group\": {\n",
    "            \"_id\": \"$email\",\n",
    "            \"name\": {\"$first\": \"$name\"},\n",
    "            \"commentCount\": {\"$sum\": 1},\n",
    "            \"lastComment\": {\"$max\": \"$date\"}\n",
    "        }\n",
    "    },\n",
    "    {\n",
    "        \"$sort\": {\"commentCount\": -1}\n",
    "    },\n",
    "    {\n",
    "        \"$limit\": 10\n",
    "    }\n",
    "]\n",
    "\n",
    "results = list(db[\"comments\"].aggregate(pipeline))\n",
    "print(f\"Found {len(results)} top commenters:\")\n",
    "for i, result in enumerate(results, 1):\n",
    "    print(f\"{i}. {result['name']} ({result['_id']}): {result['commentCount']} comments\")\n"
   ]
  },
  {
   "cell_type": "markdown",
   "id": "9dc44106",
   "metadata": {},
   "source": [
    "**Comments word search**"
   ]
  },
  {
   "cell_type": "code",
   "execution_count": 417,
   "id": "f9bf0dfe",
   "metadata": {},
   "outputs": [
    {
     "name": "stdout",
     "output_type": "stream",
     "text": [
      "Found 0 movies with 'masterpiece' comments:\n"
     ]
    }
   ],
   "source": [
    "pipeline = [\n",
    "    {\n",
    "        \"$match\": {\n",
    "            \"text\": {\"$regex\": \"masterpiece\", \"$options\": \"i\"}\n",
    "        }\n",
    "    },\n",
    "    {\n",
    "        \"$lookup\": {\n",
    "            \"from\": \"movies\",\n",
    "            \"localField\": \"movie_id\",\n",
    "            \"foreignField\": \"_id\",\n",
    "            \"as\": \"movie_info\"\n",
    "        }\n",
    "    },\n",
    "    {\n",
    "        \"$unwind\": \"$movie_info\"\n",
    "    },\n",
    "    {\n",
    "        \"$group\": {\n",
    "            \"_id\": \"$movie_id\",\n",
    "            \"title\": {\"$first\": \"$movie_info.title\"},\n",
    "            \"year\": {\"$first\": \"$movie_info.year\"},\n",
    "            \"imdb_rating\": {\"$first\": \"$movie_info.imdb.rating\"},\n",
    "            \"masterpieceComments\": {\"$sum\": 1},\n",
    "            \"comments\": {\n",
    "                \"$push\": {\n",
    "                    \"text\": \"$text\",\n",
    "                    \"author\": \"$name\",\n",
    "                    \"date\": \"$date\"\n",
    "                }\n",
    "            }\n",
    "        }\n",
    "    },\n",
    "    {\n",
    "        \"$sort\": {\"masterpieceComments\": -1}\n",
    "    },\n",
    "    {\n",
    "        \"$limit\": 5\n",
    "    }\n",
    "]\n",
    "\n",
    "results = list(db[\"comments\"].aggregate(pipeline))\n",
    "print(f\"Found {len(results)} movies with 'masterpiece' comments:\")\n",
    "for result in results:\n",
    "    print(f\"{result['title']} ({result['year']}): {result['masterpieceComments']} 'masterpiece' comments\")\n"
   ]
  },
  {
   "cell_type": "markdown",
   "id": "f4304b06",
   "metadata": {},
   "source": [
    "**Movies with rating above 8.0 and more than 50 comments**"
   ]
  },
  {
   "cell_type": "code",
   "execution_count": 418,
   "id": "d7236a62",
   "metadata": {},
   "outputs": [
    {
     "name": "stdout",
     "output_type": "stream",
     "text": [
      "Found 16 high-rated movies with over 50 comments:\n",
      "The Shawshank Redemption (1994) - rating: 9.3 - 122 comments in genre: Crime, Drama\n",
      "The Shawshank Redemption (1994) - rating: 9.3 - 131 comments in genre: Crime, Drama\n",
      "The Godfather (1972) - rating: 9.2 - 131 comments in genre: Crime, Drama\n",
      "The Dark Knight (2008) - rating: 9 - 136 comments in genre: Action, Crime, Drama\n",
      "Pulp Fiction (1994) - rating: 8.9 - 121 comments in genre: Crime, Drama\n",
      "Fight Club (1999) - rating: 8.9 - 137 comments in genre: Drama\n",
      "The Lord of the Rings: The Return of the King (2003) - rating: 8.9 - 133 comments in genre: Adventure, Fantasy\n",
      "Star Wars: Episode V - The Empire Strikes Back (1980) - rating: 8.8 - 115 comments in genre: Action, Adventure, Fantasy\n",
      "Forrest Gump (1994) - rating: 8.8 - 136 comments in genre: Drama, Romance\n",
      "The Lord of the Rings: The Fellowship of the Ring (2001) - rating: 8.8 - 114 comments in genre: Adventure, Fantasy\n",
      "Star Wars: Episode IV - A New Hope (1977) - rating: 8.7 - 131 comments in genre: Action, Adventure, Fantasy\n",
      "The Matrix (1999) - rating: 8.7 - 138 comments in genre: Action, Sci-Fi\n",
      "The Lord of the Rings: The Two Towers (2002) - rating: 8.7 - 127 comments in genre: Adventure, Fantasy\n",
      "Raiders of the Lost Ark (1981) - rating: 8.6 - 126 comments in genre: Action, Adventure\n",
      "The Silence of the Lambs (1991) - rating: 8.6 - 121 comments in genre: Crime, Drama, Thriller\n",
      "Saving Private Ryan (1998) - rating: 8.6 - 144 comments in genre: Action, Drama, War\n"
     ]
    }
   ],
   "source": [
    "pipeline = [\n",
    "    {\n",
    "        \"$match\": {\n",
    "            \"imdb.rating\": {\"$gt\": 8.5}\n",
    "        }\n",
    "    },\n",
    "    {\n",
    "        \"$lookup\": {\n",
    "            \"from\": \"comments\",\n",
    "            \"localField\": \"_id\",\n",
    "            \"foreignField\": \"movie_id\",\n",
    "            \"as\": \"comments\"\n",
    "        }\n",
    "    },\n",
    "    {\n",
    "        \"$addFields\": {\n",
    "            \"commentCount\": {\"$size\": \"$comments\"}\n",
    "        }\n",
    "    },\n",
    "    {\n",
    "        \"$match\": {\n",
    "            \"commentCount\": {\"$gt\": 50}\n",
    "        }\n",
    "    },\n",
    "    {\n",
    "        \"$project\": {\n",
    "            \"title\": 1,\n",
    "            \"year\": 1,\n",
    "            \"imdb_rating\": \"$imdb.rating\",\n",
    "            \"imdb_votes\": \"$imdb.votes\",\n",
    "            \"commentCount\": 1,\n",
    "            \"genres\": 1\n",
    "        }\n",
    "    },\n",
    "    {\n",
    "        \"$sort\": {\"imdb_rating\": -1}\n",
    "    }\n",
    "]\n",
    "\n",
    "results = list(db[\"movies\"].aggregate(pipeline))\n",
    "print(f\"Found {len(results)} high-rated movies with over 50 comments:\")\n",
    "for result in results:\n",
    "    genres_str = \", \".join(result.get('genres', [])[:3])\n",
    "    print(f\"{result['title']} ({result['year']}) - rating: {result['imdb_rating']} - {result['commentCount']} comments in genre: {genres_str}\")\n"
   ]
  }
 ],
 "metadata": {
  "kernelspec": {
   "display_name": ".venv",
   "language": "python",
   "name": "python3"
  },
  "language_info": {
   "codemirror_mode": {
    "name": "ipython",
    "version": 3
   },
   "file_extension": ".py",
   "mimetype": "text/x-python",
   "name": "python",
   "nbconvert_exporter": "python",
   "pygments_lexer": "ipython3",
   "version": "3.12.6"
  }
 },
 "nbformat": 4,
 "nbformat_minor": 5
}
